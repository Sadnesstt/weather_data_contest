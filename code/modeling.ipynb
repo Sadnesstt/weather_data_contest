﻿{
 "cells": [
  {
   "cell_type": "markdown",
   "metadata": {
    "colab_type": "text",
    "id": "PQCmdguOT9bP"
   },
   "source": [
    "### import library & setting"
   ]
  },
  {
   "cell_type": "code",
   "execution_count": 1,
   "metadata": {
    "colab": {},
    "colab_type": "code",
    "id": "UxtowHg8T9bQ"
   },
   "outputs": [
    {
     "ename": "ModuleNotFoundError",
     "evalue": "No module named 'lightgbm'",
     "output_type": "error",
     "traceback": [
      "\u001b[1;31m---------------------------------------------------------------------------\u001b[0m",
      "\u001b[1;31mModuleNotFoundError\u001b[0m                       Traceback (most recent call last)",
      "\u001b[1;32m<ipython-input-1-c02925b76408>\u001b[0m in \u001b[0;36m<module>\u001b[1;34m\u001b[0m\n\u001b[0;32m      6\u001b[0m \u001b[1;32mfrom\u001b[0m \u001b[0msklearn\u001b[0m\u001b[1;33m.\u001b[0m\u001b[0mmetrics\u001b[0m \u001b[1;32mimport\u001b[0m \u001b[0mconfusion_matrix\u001b[0m\u001b[1;33m,\u001b[0m \u001b[0mf1_score\u001b[0m\u001b[1;33m,\u001b[0m \u001b[0mclassification_report\u001b[0m\u001b[1;33m,\u001b[0m \u001b[0mroc_curve\u001b[0m\u001b[1;33m,\u001b[0m \u001b[0mroc_auc_score\u001b[0m\u001b[1;33m\u001b[0m\u001b[1;33m\u001b[0m\u001b[0m\n\u001b[0;32m      7\u001b[0m \u001b[1;32mfrom\u001b[0m \u001b[0msklearn\u001b[0m\u001b[1;33m.\u001b[0m\u001b[0mmodel_selection\u001b[0m \u001b[1;32mimport\u001b[0m \u001b[0mGridSearchCV\u001b[0m\u001b[1;33m,\u001b[0m \u001b[0mRandomizedSearchCV\u001b[0m\u001b[1;33m\u001b[0m\u001b[1;33m\u001b[0m\u001b[0m\n\u001b[1;32m----> 8\u001b[1;33m \u001b[1;32mimport\u001b[0m \u001b[0mlightgbm\u001b[0m \u001b[1;32mas\u001b[0m \u001b[0mlgb\u001b[0m\u001b[1;33m\u001b[0m\u001b[1;33m\u001b[0m\u001b[0m\n\u001b[0m\u001b[0;32m      9\u001b[0m \u001b[1;33m\u001b[0m\u001b[0m\n\u001b[0;32m     10\u001b[0m \u001b[1;32mimport\u001b[0m \u001b[0mwarnings\u001b[0m\u001b[1;33m\u001b[0m\u001b[1;33m\u001b[0m\u001b[0m\n",
      "\u001b[1;31mModuleNotFoundError\u001b[0m: No module named 'lightgbm'"
     ]
    }
   ],
   "source": [
    "import os\n",
    "import pandas as pd\n",
    "import numpy as np\n",
    "\n",
    "from sklearn.model_selection import KFold, cross_val_score, StratifiedKFold, train_test_split\n",
    "from sklearn.metrics import confusion_matrix, f1_score, classification_report, roc_curve, roc_auc_score\n",
    "from sklearn.model_selection import GridSearchCV, RandomizedSearchCV\n",
    "import lightgbm as lgb\n",
    "\n",
    "import warnings\n",
    "warnings.filterwarnings('ignore')\n",
    "\n",
    "from collections import Counter"
   ]
  },
  {
   "cell_type": "code",
   "execution_count": null,
   "metadata": {
    "colab": {
     "base_uri": "https://localhost:8080/",
     "height": 35
    },
    "colab_type": "code",
    "id": "BUGrAcsST9bZ",
    "outputId": "8785dc90-7c27-4d64-eed4-de7c1df5f14b"
   },
   "outputs": [
    {
     "data": {
      "text/plain": [
       "((699978, 48), (7078, 47))"
      ]
     },
     "execution_count": 3,
     "metadata": {
      "tags": []
     },
     "output_type": "execute_result"
    }
   ],
   "source": [
    "# 파일 읽기\n",
    "train = pd.read_csv(\"train_dat.csv\")\n",
    "test_real = pd.read_csv(\"test_dat.csv\")\n",
    "\n",
    "# check\n",
    "train.shape, test_real.shape"
   ]
  },
  {
   "cell_type": "markdown",
   "metadata": {
    "colab_type": "text",
    "id": "AucEynC2T9be"
   },
   "source": [
    "##### cv data 나누기"
   ]
  },
  {
   "cell_type": "code",
   "execution_count": null,
   "metadata": {
    "colab": {
     "base_uri": "https://localhost:8080/",
     "height": 35
    },
    "colab_type": "code",
    "id": "0Shex56eYcbv",
    "outputId": "0b23223f-65b0-47b7-805f-44072944c962"
   },
   "outputs": [
    {
     "data": {
      "text/plain": [
       "((657740, 46), (657740,))"
      ]
     },
     "execution_count": 8,
     "metadata": {
      "tags": []
     },
     "output_type": "execute_result"
    }
   ],
   "source": [
    "train_x = train.dropna(axis = 0).drop(['cond_loc', 'mea_ddhr', 'tem_in_loc', 'hum_out_loc', 'wind_dir129', \n",
    "'spot_press129', 'sea_press129',\n",
    "'rain616', 'dp_out', 'dp616', 'hour', 'min'], axis = 1)\n",
    "train_y = train.dropna(axis = 0)['cond_loc']\n",
    "train_x.shape, train_y.shape\n",
    "\n",
    "x_test_real = test_real.drop(['mea_ddhr', 'tem_in_loc', 'hum_out_loc', 'wind_dir129', \n",
    "'spot_press129', 'sea_press129',\n",
    "'rain616', 'dp_out', 'dp616', 'hour', 'min'], axis = 1)[train_x.columns]\n",
    "x_test_real.shape"
   ]
  },
  {
   "cell_type": "markdown",
   "metadata": {
    "colab_type": "text",
    "id": "qdob5xkGT9bi"
   },
   "source": [
    "#### CSI 구하는 함수"
   ]
  },
  {
   "cell_type": "code",
   "execution_count": null,
   "metadata": {
    "colab": {},
    "colab_type": "code",
    "id": "qjfjzqFGT9bi"
   },
   "outputs": [],
   "source": [
    "def CSIF(y_true, y_pred):\n",
    "    a = confusion_matrix(y_true, y_pred)\n",
    "    return(a[1][1] / (a[1][1] + a[1][0] + a[0][1]))"
   ]
  },
  {
   "cell_type": "markdown",
   "metadata": {
    "colab_type": "text",
    "id": "GcOnBXwySrMq"
   },
   "source": [
    "##### modelling"
   ]
  },
  {
   "cell_type": "code",
   "execution_count": null,
   "metadata": {
    "colab": {
     "base_uri": "https://localhost:8080/",
     "height": 426
    },
    "colab_type": "code",
    "id": "C66nj1UMSroy",
    "outputId": "8d78bdd5-edbd-4a7b-9edb-20dfab3ff9fd"
   },
   "outputs": [
    {
     "name": "stdout",
     "output_type": "stream",
     "text": [
      "Training until validation scores don't improve for 500 rounds.\n",
      "[100]\tvalid_0's auc: 0.997838\n",
      "[200]\tvalid_0's auc: 0.998505\n",
      "[300]\tvalid_0's auc: 0.998775\n",
      "[400]\tvalid_0's auc: 0.998959\n",
      "[500]\tvalid_0's auc: 0.999118\n",
      "[600]\tvalid_0's auc: 0.999225\n",
      "[700]\tvalid_0's auc: 0.999312\n",
      "[800]\tvalid_0's auc: 0.999366\n",
      "[900]\tvalid_0's auc: 0.99943\n",
      "[1000]\tvalid_0's auc: 0.999471\n",
      "[1100]\tvalid_0's auc: 0.999513\n",
      "[1200]\tvalid_0's auc: 0.999551\n",
      "[1300]\tvalid_0's auc: 0.999589\n",
      "[1400]\tvalid_0's auc: 0.999613\n",
      "[1500]\tvalid_0's auc: 0.999633\n",
      "[1600]\tvalid_0's auc: 0.999651\n",
      "[1700]\tvalid_0's auc: 0.999664\n",
      "[1800]\tvalid_0's auc: 0.999676\n",
      "[1900]\tvalid_0's auc: 0.999683\n",
      "[2000]\tvalid_0's auc: 0.999699\n",
      "Did not meet early stopping. Best iteration is:\n",
      "[2000]\tvalid_0's auc: 0.999699\n"
     ]
    }
   ],
   "source": [
    " # validation set 나누기\n",
    "x_train, x_val, y_train, y_val = train_test_split(train_x, train_y, test_size = 0.1, random_state = 1886)\n",
    "# parameter 설정\n",
    "params = {'learning_rate' : 0.01, \n",
    "          'num_iterations' : 2000,\n",
    "          'max_depth' : 5, \n",
    "          'bagging_fraction' : 0.8,\n",
    "          'feature_fraction' : 0.7,\n",
    "          'scale_pos_weight' : 1, \n",
    "          'metric' : 'auc',\n",
    "          'objective' : 'binary',\n",
    "          'random_state' : 1886\n",
    "           }\n",
    "\n",
    " dtrain = lgb.Dataset(x_train, y_train)\n",
    " dvalid = lgb.Dataset(x_val, y_val)\n",
    " # model fitting\n",
    " lgbm = lgb.train(params,\n",
    "                  dtrain,\n",
    "                  valid_sets=dvalid,\n",
    "                  early_stopping_rounds=500,\n",
    "                  verbose_eval= -1)"
   ]
  },
  {
   "cell_type": "code",
   "execution_count": null,
   "metadata": {
    "colab": {
     "base_uri": "https://localhost:8080/",
     "height": 52
    },
    "colab_type": "code",
    "id": "YqVXUlEAF_Q9",
    "outputId": "ae2f346b-028a-424c-ccd6-9ef7ef95e613"
   },
   "outputs": [
    {
     "name": "stdout",
     "output_type": "stream",
     "text": [
      "결로 개수 :  336 323\n",
      "결로 확률 평균 :  1.6885024025816657 2.515084358039384\n"
     ]
    }
   ],
   "source": [
    "# prediction\n",
    "test_real['prob_cond_loc'] = lgbm.predict(x_test_real)\n",
    "test_24 = test_real[test_real['time'] == 24]\n",
    "test_48 = test_real[test_real['time'] == 48]\n",
    "\n",
    "prob_24 = np.mean(test_24.prob_cond_loc) \n",
    "prob_48 = np.mean(test_48.prob_cond_loc)\n",
    "\n",
    "test_24['cond_loc'] = np.where(test_24['prob_cond_loc'] > 0.0075, 1, 0)\n",
    "test_48['cond_loc'] = np.where(test_48['prob_cond_loc'] > 0.008, 1, 0)\n",
    "\n",
    "cond_loc_24 = np.sum(test_24.cond_loc)\n",
    "cond_loc_48 = np.sum(test_48.cond_loc)\n",
    "\n",
    "print(\"결로 개수 : \", cond_loc_24, cond_loc_48)\n",
    "print(\"결로 확률 평균 : \", prob_24*100, prob_48 *100)"
   ]
  },
  {
   "cell_type": "code",
   "execution_count": null,
   "metadata": {
    "colab": {},
    "colab_type": "code",
    "id": "uuHtZM1miy5z"
   },
   "outputs": [],
   "source": [
    "##### 저장\n",
    "test_final = pd.concat([test_24, test_48], axis = 0)\n",
    "test_final.shape, test_real.shape\n",
    "test_final.to_csv(\"test_final_tuning.csv\", index = False)"
   ]
  }
 ],
 "metadata": {
  "colab": {
   "collapsed_sections": [],
   "name": "lgbm_cv threshold.ipynb의 사본",
   "provenance": []
  },
  "kernelspec": {
   "display_name": "Python 3",
   "language": "python",
   "name": "python3"
  },
  "language_info": {
   "codemirror_mode": {
    "name": "ipython",
    "version": 3
   },
   "file_extension": ".py",
   "mimetype": "text/x-python",
   "name": "python",
   "nbconvert_exporter": "python",
   "pygments_lexer": "ipython3",
   "version": "3.7.4"
  }
 },
 "nbformat": 4,
 "nbformat_minor": 1
}
